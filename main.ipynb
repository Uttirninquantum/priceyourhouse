{
  "metadata": {
    "kernelspec": {
      "language": "python",
      "display_name": "Python 3",
      "name": "python3"
    },
    "language_info": {
      "name": "python",
      "version": "3.7.12",
      "mimetype": "text/x-python",
      "codemirror_mode": {
        "name": "ipython",
        "version": 3
      },
      "pygments_lexer": "ipython3",
      "nbconvert_exporter": "python",
      "file_extension": ".py"
    },
    "colab": {
      "provenance": [],
      "include_colab_link": true
    }
  },
  "nbformat_minor": 0,
  "nbformat": 4,
  "cells": [
    {
      "cell_type": "markdown",
      "metadata": {
        "id": "view-in-github",
        "colab_type": "text"
      },
      "source": [
        "<a href=\"https://colab.research.google.com/github/Uttirninquantum/priceyourhouse/blob/main/main.ipynb\" target=\"_parent\"><img src=\"https://colab.research.google.com/assets/colab-badge.svg\" alt=\"Open In Colab\"/></a>"
      ]
    },
    {
      "cell_type": "code",
      "source": [
        "\n",
        "import pandas as pd \n",
        "import numpy as np\n",
        "d = pd.read_csv('/content/sample_data/train.csv')\n",
        "d_frame=pd.DataFrame(d)"
      ],
      "metadata": {
        "execution": {
          "iopub.status.busy": "2023-04-01T07:47:10.100523Z",
          "iopub.execute_input": "2023-04-01T07:47:10.101702Z",
          "iopub.status.idle": "2023-04-01T07:47:10.130229Z",
          "shell.execute_reply.started": "2023-04-01T07:47:10.101654Z",
          "shell.execute_reply": "2023-04-01T07:47:10.128943Z"
        },
        "trusted": true,
        "id": "6H1qOAyI2kWd"
      },
      "execution_count": null,
      "outputs": []
    },
    {
      "cell_type": "code",
      "source": [
        "d_frame.columns  \n",
        "#d_frame.head"
      ],
      "metadata": {
        "execution": {
          "iopub.status.busy": "2023-04-01T07:47:10.132573Z",
          "iopub.execute_input": "2023-04-01T07:47:10.133086Z",
          "iopub.status.idle": "2023-04-01T07:47:10.142377Z",
          "shell.execute_reply.started": "2023-04-01T07:47:10.133034Z",
          "shell.execute_reply": "2023-04-01T07:47:10.140973Z"
        },
        "trusted": true,
        "id": "9tJfgPOz2kWh",
        "colab": {
          "base_uri": "https://localhost:8080/"
        },
        "outputId": "a848b701-1ab5-4637-d372-d915018104c9"
      },
      "execution_count": null,
      "outputs": [
        {
          "output_type": "execute_result",
          "data": {
            "text/plain": [
              "Index(['Id', 'MSSubClass', 'MSZoning', 'LotFrontage', 'LotArea', 'Street',\n",
              "       'Alley', 'LotShape', 'LandContour', 'Utilities', 'LotConfig',\n",
              "       'LandSlope', 'Neighborhood', 'Condition1', 'Condition2', 'BldgType',\n",
              "       'HouseStyle', 'OverallQual', 'OverallCond', 'YearBuilt', 'YearRemodAdd',\n",
              "       'RoofStyle', 'RoofMatl', 'Exterior1st', 'Exterior2nd', 'MasVnrType',\n",
              "       'MasVnrArea', 'ExterQual', 'ExterCond', 'Foundation', 'BsmtQual',\n",
              "       'BsmtCond', 'BsmtExposure', 'BsmtFinType1', 'BsmtFinSF1',\n",
              "       'BsmtFinType2', 'BsmtFinSF2', 'BsmtUnfSF', 'TotalBsmtSF', 'Heating',\n",
              "       'HeatingQC', 'CentralAir', 'Electrical', '1stFlrSF', '2ndFlrSF',\n",
              "       'LowQualFinSF', 'GrLivArea', 'BsmtFullBath', 'BsmtHalfBath', 'FullBath',\n",
              "       'HalfBath', 'BedroomAbvGr', 'KitchenAbvGr', 'KitchenQual',\n",
              "       'TotRmsAbvGrd', 'Functional', 'Fireplaces', 'FireplaceQu', 'GarageType',\n",
              "       'GarageYrBlt', 'GarageFinish', 'GarageCars', 'GarageArea', 'GarageQual',\n",
              "       'GarageCond', 'PavedDrive', 'WoodDeckSF', 'OpenPorchSF',\n",
              "       'EnclosedPorch', '3SsnPorch', 'ScreenPorch', 'PoolArea', 'PoolQC',\n",
              "       'Fence', 'MiscFeature', 'MiscVal', 'MoSold', 'YrSold', 'SaleType',\n",
              "       'SaleCondition', 'SalePrice'],\n",
              "      dtype='object')"
            ]
          },
          "metadata": {},
          "execution_count": 12
        }
      ]
    },
    {
      "cell_type": "code",
      "source": [
        "from sklearn.tree import DecisionTreeRegressor as reg\n",
        "import joblib\n",
        "li=['LotArea','OverallCond','YrSold']\n",
        "x=d_frame[li]\n",
        "print(x)\n",
        "Y=d_frame.SalePrice"
      ],
      "metadata": {
        "execution": {
          "iopub.status.busy": "2023-04-01T07:47:10.144039Z",
          "iopub.execute_input": "2023-04-01T07:47:10.144515Z",
          "iopub.status.idle": "2023-04-01T07:47:10.159137Z",
          "shell.execute_reply.started": "2023-04-01T07:47:10.144446Z",
          "shell.execute_reply": "2023-04-01T07:47:10.157650Z"
        },
        "trusted": true,
        "id": "og90AgHA2kWk",
        "colab": {
          "base_uri": "https://localhost:8080/"
        },
        "outputId": "2622a55f-a076-4ca4-f127-8dd53affa744"
      },
      "execution_count": null,
      "outputs": [
        {
          "output_type": "stream",
          "name": "stdout",
          "text": [
            "      LotArea  OverallCond  YrSold\n",
            "0        8450            5    2008\n",
            "1        9600            8    2007\n",
            "2       11250            5    2008\n",
            "3        9550            5    2006\n",
            "4       14260            5    2008\n",
            "...       ...          ...     ...\n",
            "1455     7917            5    2007\n",
            "1456    13175            6    2010\n",
            "1457     9042            9    2010\n",
            "1458     9717            6    2010\n",
            "1459     9937            6    2008\n",
            "\n",
            "[1460 rows x 3 columns]\n"
          ]
        }
      ]
    },
    {
      "cell_type": "code",
      "source": [],
      "metadata": {
        "id": "SQhIRDPb2kWp"
      },
      "execution_count": null,
      "outputs": []
    },
    {
      "cell_type": "code",
      "source": [
        "p_model=reg()\n",
        "p_model.fit(x,Y)\n",
        "rdi=p_model.predict(x)\n",
        "rdi_d=pd.DataFrame(rdi)\n",
        "rdi_d.to_csv('mypred_train.csv')\n",
        "print(rdi_d)\n",
        "\n"
      ],
      "metadata": {
        "execution": {
          "iopub.status.busy": "2023-04-01T07:47:10.161793Z",
          "iopub.execute_input": "2023-04-01T07:47:10.162514Z",
          "iopub.status.idle": "2023-04-01T07:47:10.182219Z",
          "shell.execute_reply.started": "2023-04-01T07:47:10.162412Z",
          "shell.execute_reply": "2023-04-01T07:47:10.181428Z"
        },
        "trusted": true,
        "id": "afQAveOH2kWs",
        "colab": {
          "base_uri": "https://localhost:8080/"
        },
        "outputId": "1ccd5732-c957-493c-dc2e-2ce76027354f"
      },
      "execution_count": null,
      "outputs": [
        {
          "output_type": "stream",
          "name": "stdout",
          "text": [
            "             0\n",
            "0     209250.0\n",
            "1     153250.0\n",
            "2     239700.0\n",
            "3     140000.0\n",
            "4     250000.0\n",
            "...        ...\n",
            "1455  175000.0\n",
            "1456  210000.0\n",
            "1457  266500.0\n",
            "1458  142125.0\n",
            "1459  147500.0\n",
            "\n",
            "[1460 rows x 1 columns]\n"
          ]
        }
      ]
    },
    {
      "cell_type": "code",
      "source": [
        "import matplotlib.pyplot as plt \n",
        "\n",
        "plt.scatter(rdi,Y)"
      ],
      "metadata": {
        "execution": {
          "iopub.status.busy": "2023-04-01T07:47:10.183395Z",
          "iopub.execute_input": "2023-04-01T07:47:10.184197Z",
          "iopub.status.idle": "2023-04-01T07:47:10.445145Z",
          "shell.execute_reply.started": "2023-04-01T07:47:10.184163Z",
          "shell.execute_reply": "2023-04-01T07:47:10.443904Z"
        },
        "trusted": true,
        "id": "qC2kQgJQ2kWx",
        "colab": {
          "base_uri": "https://localhost:8080/",
          "height": 283
        },
        "outputId": "a05f5745-e602-4905-ad94-13fd0d460122"
      },
      "execution_count": null,
      "outputs": [
        {
          "output_type": "execute_result",
          "data": {
            "text/plain": [
              "<matplotlib.collections.PathCollection at 0x7f441631e220>"
            ]
          },
          "metadata": {},
          "execution_count": 15
        },
        {
          "output_type": "display_data",
          "data": {
            "text/plain": [
              "<Figure size 640x480 with 1 Axes>"
            ],
            "image/png": "[encoded data removed]"
          },
          "metadata": {}
        }
      ]
    },
    {
      "cell_type": "code",
      "source": [],
      "metadata": {
        "id": "KfzOk6ph2kW1"
      },
      "execution_count": null,
      "outputs": []
    },
    {
      "cell_type": "code",
      "source": [
        "d_test = pd.read_csv(\"/content/sample_data/test.csv\")\n",
        "d_frame_test=pd.DataFrame(d_test)\n",
        "#d.head\n",
        "#d.describe\n",
        "d_test.columns\n",
        "#d_frame.SalePrice false"
      ],
      "metadata": {
        "execution": {
          "iopub.status.busy": "2023-04-01T07:47:10.446395Z",
          "iopub.execute_input": "2023-04-01T07:47:10.446719Z",
          "iopub.status.idle": "2023-04-01T07:47:10.475634Z",
          "shell.execute_reply.started": "2023-04-01T07:47:10.446689Z",
          "shell.execute_reply": "2023-04-01T07:47:10.474774Z"
        },
        "trusted": true,
        "id": "yun3dego2kW4",
        "colab": {
          "base_uri": "https://localhost:8080/"
        },
        "outputId": "ba4cb289-dca9-4050-9e1e-07fb0edd9a1d"
      },
      "execution_count": null,
      "outputs": [
        {
          "output_type": "execute_result",
          "data": {
            "text/plain": [
              "Index(['Id', 'MSSubClass', 'MSZoning', 'LotFrontage', 'LotArea', 'Street',\n",
              "       'Alley', 'LotShape', 'LandContour', 'Utilities', 'LotConfig',\n",
              "       'LandSlope', 'Neighborhood', 'Condition1', 'Condition2', 'BldgType',\n",
              "       'HouseStyle', 'OverallQual', 'OverallCond', 'YearBuilt', 'YearRemodAdd',\n",
              "       'RoofStyle', 'RoofMatl', 'Exterior1st', 'Exterior2nd', 'MasVnrType',\n",
              "       'MasVnrArea', 'ExterQual', 'ExterCond', 'Foundation', 'BsmtQual',\n",
              "       'BsmtCond', 'BsmtExposure', 'BsmtFinType1', 'BsmtFinSF1',\n",
              "       'BsmtFinType2', 'BsmtFinSF2', 'BsmtUnfSF', 'TotalBsmtSF', 'Heating',\n",
              "       'HeatingQC', 'CentralAir', 'Electrical', '1stFlrSF', '2ndFlrSF',\n",
              "       'LowQualFinSF', 'GrLivArea', 'BsmtFullBath', 'BsmtHalfBath', 'FullBath',\n",
              "       'HalfBath', 'BedroomAbvGr', 'KitchenAbvGr', 'KitchenQual',\n",
              "       'TotRmsAbvGrd', 'Functional', 'Fireplaces', 'FireplaceQu', 'GarageType',\n",
              "       'GarageYrBlt', 'GarageFinish', 'GarageCars', 'GarageArea', 'GarageQual',\n",
              "       'GarageCond', 'PavedDrive', 'WoodDeckSF', 'OpenPorchSF',\n",
              "       'EnclosedPorch', '3SsnPorch', 'ScreenPorch', 'PoolArea', 'PoolQC',\n",
              "       'Fence', 'MiscFeature', 'MiscVal', 'MoSold', 'YrSold', 'SaleType',\n",
              "       'SaleCondition'],\n",
              "      dtype='object')"
            ]
          },
          "metadata": {},
          "execution_count": 16
        }
      ]
    },
    {
      "cell_type": "code",
      "source": [
        "li_test=['LotArea','OverallCond','YrSold']\n",
        "x_test=d_frame_test[li_test]"
      ],
      "metadata": {
        "execution": {
          "iopub.status.busy": "2023-04-01T07:47:10.476678Z",
          "iopub.execute_input": "2023-04-01T07:47:10.477533Z",
          "iopub.status.idle": "2023-04-01T07:47:10.483557Z",
          "shell.execute_reply.started": "2023-04-01T07:47:10.477500Z",
          "shell.execute_reply": "2023-04-01T07:47:10.482315Z"
        },
        "trusted": true,
        "id": "5CpDiv2Y2kW8"
      },
      "execution_count": null,
      "outputs": []
    },
    {
      "cell_type": "code",
      "source": [],
      "metadata": {
        "id": "RZwRELOG80ap"
      },
      "execution_count": null,
      "outputs": []
    },
    {
      "cell_type": "code",
      "source": [],
      "metadata": {
        "id": "jPeLVHnu84rz"
      },
      "execution_count": null,
      "outputs": []
    },
    {
      "cell_type": "code",
      "source": [
        "t_res=p_model.predict(x_test)\n",
        "print(t_res)\n",
        "t_frame=pd.DataFrame(t_res)\n",
        "t_frame.to_csv('test_pred.csv')\n"
      ],
      "metadata": {
        "execution": {
          "iopub.status.busy": "2023-04-01T07:47:10.485103Z",
          "iopub.execute_input": "2023-04-01T07:47:10.485473Z",
          "iopub.status.idle": "2023-04-01T07:47:10.504565Z",
          "shell.execute_reply.started": "2023-04-01T07:47:10.485406Z",
          "shell.execute_reply": "2023-04-01T07:47:10.503253Z"
        },
        "trusted": true,
        "id": "vFhEdu4c2kW_",
        "colab": {
          "base_uri": "https://localhost:8080/"
        },
        "outputId": "a0a58d88-a742-40b9-ef79-0fbaff4ec71a"
      },
      "execution_count": null,
      "outputs": [
        {
          "output_type": "stream",
          "name": "stdout",
          "text": [
            "[197000. 190000. 140000. ... 274970. 239900. 140000.]\n"
          ]
        }
      ]
    },
    {
      "cell_type": "code",
      "source": [
        "def inputter(lot,overalc,yrsol) :\n",
        "    i=np.array([[lot,overalc,yrsol]])\n",
        "    fin=p_model.predict(i)\n",
        "    print(\"your house price $ \",fin)\n",
        "    "
      ],
      "metadata": {
        "execution": {
          "iopub.status.busy": "2023-04-01T07:47:10.506138Z",
          "iopub.execute_input": "2023-04-01T07:47:10.506490Z",
          "iopub.status.idle": "2023-04-01T07:47:10.512840Z",
          "shell.execute_reply.started": "2023-04-01T07:47:10.506422Z",
          "shell.execute_reply": "2023-04-01T07:47:10.511662Z"
        },
        "trusted": true,
        "id": "YUKMDhSF2kXE"
      },
      "execution_count": null,
      "outputs": []
    },
    {
      "cell_type": "code",
      "source": [
        "a=int(input(\"enter lot area : \"))\n",
        "b=int(input(\"enter the overall condition of the plot : \" ))\n",
        "c=int(input(\"enter the year sold or finished :  \" ))\n",
        "inputter(a,b,c)"
      ],
      "metadata": {
        "execution": {
          "iopub.status.busy": "2023-04-01T07:47:10.515789Z",
          "iopub.execute_input": "2023-04-01T07:47:10.516487Z",
          "iopub.status.idle": "2023-04-01T07:47:29.085631Z",
          "shell.execute_reply.started": "2023-04-01T07:47:10.516425Z",
          "shell.execute_reply": "2023-04-01T07:47:29.084154Z"
        },
        "trusted": true,
        "id": "yasWDzl32kXI",
        "colab": {
          "base_uri": "https://localhost:8080/"
        },
        "outputId": "a2309954-de4d-4a37-e5bd-f46ed3d54d18"
      },
      "execution_count": null,
      "outputs": [
        {
          "output_type": "stream",
          "name": "stdout",
          "text": [
            "enter lot area : 2400\n",
            "enter the overall condition of the plot : 10\n",
            "enter the year sold or finished :  2022\n",
            "your house price $  [155000.]\n"
          ]
        },
        {
          "output_type": "stream",
          "name": "stderr",
          "text": [
            "/usr/local/lib/python3.9/dist-packages/sklearn/base.py:439: UserWarning: X does not have valid feature names, but DecisionTreeRegressor was fitted with feature names\n",
            "  warnings.warn(\n"
          ]
        }
      ]
    }
  ]
}